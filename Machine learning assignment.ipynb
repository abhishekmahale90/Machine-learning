{
 "cells": [
  {
   "cell_type": "code",
   "execution_count": 1,
   "metadata": {},
   "outputs": [
    {
     "name": "stdout",
     "output_type": "stream",
     "text": [
      "P(sunny|a cone of ice cream) = 1.0\n",
      "P(rainy|a cup of hot coffee) = 3.1887755102040818e-18\n"
     ]
    }
   ],
   "source": [
    "# Define the prior probabilities P(sunny) and P(rainy)\n",
    "P_sunny = 0.7  # Example value\n",
    "P_rainy = 0.3  # Example value\n",
    "\n",
    "# Define the conditional probabilities P(word|category)\n",
    "P_word_given_sunny = {\n",
    "    'a': 0.4,  # Example values for each word\n",
    "    'cone': 0.6,\n",
    "    'of': 0.8,\n",
    "    'ice': 0.3,\n",
    "    'cream': 0.7\n",
    "}\n",
    "\n",
    "P_word_given_rainy = {\n",
    "    'a': 0.5,  # Example values for each word\n",
    "    'cup': 0.7,\n",
    "    'of': 0.6,\n",
    "    'hot': 0.4,\n",
    "    'coffee': 0.8\n",
    "}\n",
    "\n",
    "# Define the input statements\n",
    "statement_sunny = \"a cone of ice cream\"\n",
    "statement_rainy = \"a cup of hot coffee\"\n",
    "\n",
    "# Tokenize the input statements\n",
    "words_sunny = statement_sunny.split()\n",
    "words_rainy = statement_rainy.split()\n",
    "\n",
    "# Initialize the probabilities\n",
    "P_sunny_given_statement = P_sunny\n",
    "P_rainy_given_statement = P_rainy\n",
    "\n",
    "# Calculate the conditional probabilities for each word\n",
    "for word in words_sunny:\n",
    "    P_sunny_given_statement *= P_word_given_sunny.get(word, 1e-6)  # Use a small value for unknown words\n",
    "    P_rainy_given_statement *= P_word_given_rainy.get(word, 1e-6)\n",
    "\n",
    "# Normalize the probabilities\n",
    "total_probability = P_sunny_given_statement + P_rainy_given_statement\n",
    "P_sunny_given_statement /= total_probability\n",
    "P_rainy_given_statement /= total_probability\n",
    "\n",
    "# Output the results\n",
    "print(\"P(sunny|a cone of ice cream) =\", P_sunny_given_statement)\n",
    "print(\"P(rainy|a cup of hot coffee) =\", P_rainy_given_statement)\n"
   ]
  },
  {
   "cell_type": "code",
   "execution_count": null,
   "metadata": {},
   "outputs": [],
   "source": []
  }
 ],
 "metadata": {
  "kernelspec": {
   "display_name": "Python 3",
   "language": "python",
   "name": "python3"
  },
  "language_info": {
   "codemirror_mode": {
    "name": "ipython",
    "version": 3
   },
   "file_extension": ".py",
   "mimetype": "text/x-python",
   "name": "python",
   "nbconvert_exporter": "python",
   "pygments_lexer": "ipython3",
   "version": "3.7.6"
  }
 },
 "nbformat": 4,
 "nbformat_minor": 4
}
